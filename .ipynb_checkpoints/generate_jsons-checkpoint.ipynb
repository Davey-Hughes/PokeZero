{
 "cells": [
  {
   "cell_type": "code",
   "execution_count": 1,
   "id": "ec1366eb",
   "metadata": {},
   "outputs": [],
   "source": [
    "import json"
   ]
  },
  {
   "cell_type": "code",
   "execution_count": 5,
   "id": "144326c5",
   "metadata": {},
   "outputs": [],
   "source": [
    "def norm_name(name):\n",
    "    return name\\\n",
    "        .replace(\" \", \"\")\\\n",
    "        .replace(\"-\", \"\")\\\n",
    "        .replace(\".\", \"\")\\\n",
    "        .replace(\"\\'\", \"\")\\\n",
    "        .replace(\"%\", \"\")\\\n",
    "        .replace(\"*\", \"\")\\\n",
    "        .replace(\":\", \"\")\\\n",
    "        .replace(\"&#39;\", \"\") \\\n",
    "        .strip()\\\n",
    "        .lower()\\\n",
    "        .encode('ascii', 'ignore')\\\n",
    "        .decode('utf-8')"
   ]
  },
  {
   "cell_type": "code",
   "execution_count": 22,
   "id": "cfafa7b9",
   "metadata": {},
   "outputs": [],
   "source": [
    "with open('pokedex.json', 'r') as fp:\n",
    "    pokedex = json.load(fp)\n",
    "\n",
    "with open('moves.json', 'r') as fp:\n",
    "    all_moves = json.load(fp)\n",
    "    \n",
    "with open('items.json', 'r') as fp:\n",
    "    items = json.load(fp)\n",
    "    \n",
    "abilities = set()\n",
    "ability_dict = {}\n",
    "for x in pokedex:\n",
    "    for a in list(pokedex[x]['abilities'].values()):\n",
    "        abilities.add(norm_name(a))\n",
    "abilities.remove('')\n",
    "for i, a in enumerate(sorted(list(abilities))):\n",
    "    ability_dict[a] = i\n",
    "with open('items.json', 'r') as fp:\n",
    "    items = json.load(fp)\n",
    "item_dict = {}\n",
    "for item in items:\n",
    "    if 'english' in item['name']:\n",
    "        name = item['name']['english']\n",
    "    else:\n",
    "        name = item['name']\n",
    "    item_dict[norm_name(name)] = item['id']\n",
    "item_dict[\"\"] = 1039"
   ]
  },
  {
   "cell_type": "code",
   "execution_count": 23,
   "id": "6bcd63e1",
   "metadata": {},
   "outputs": [],
   "source": [
    "with open(\"item_id.json\", \"w\") as outfile:\n",
    "    json.dump(item_dict, outfile)"
   ]
  },
  {
   "cell_type": "code",
   "execution_count": 10,
   "id": "b6517501",
   "metadata": {},
   "outputs": [],
   "source": [
    "with open(\"ability_id.json\", \"w\") as outfile:\n",
    "    json.dump(ability_dict, outfile)"
   ]
  },
  {
   "cell_type": "code",
   "execution_count": 12,
   "id": "3792029f",
   "metadata": {},
   "outputs": [],
   "source": [
    "type_dict = {}\n",
    "type_set = set()\n",
    "for x in pokedex:\n",
    "    for i in pokedex[x]['types']:\n",
    "        type_set.add(norm_name(i))\n",
    "type_set.remove('bird')\n",
    "for i, a in enumerate(list(type_set)):\n",
    "    type_dict[a] = i\n",
    "with open(\"type_id.json\", \"w\") as outfile:\n",
    "    json.dump(type_dict, outfile)"
   ]
  },
  {
   "cell_type": "code",
   "execution_count": 13,
   "id": "b44b13e5",
   "metadata": {},
   "outputs": [],
   "source": [
    "moves = set()\n",
    "move_dict = {}\n",
    "for x in all_moves:\n",
    "    moves.add(x)\n",
    "for i, a in enumerate(sorted(list(moves))):\n",
    "    move_dict[a] = i"
   ]
  },
  {
   "cell_type": "code",
   "execution_count": 16,
   "id": "6b9b0749",
   "metadata": {},
   "outputs": [],
   "source": [
    "with open(\"move_id.json\", \"w\") as outfile:\n",
    "    json.dump(move_dict, outfile)"
   ]
  },
  {
   "cell_type": "code",
   "execution_count": 17,
   "id": "1de15912",
   "metadata": {},
   "outputs": [
    {
     "name": "stdout",
     "output_type": "stream",
     "text": [
      "rock\n",
      "poison\n",
      "fairy\n",
      "fighting\n",
      "dragon\n",
      "psychic\n",
      "steel\n",
      "fire\n",
      "bug\n",
      "dark\n",
      "ghost\n",
      "flying\n",
      "water\n",
      "grass\n",
      "electric\n",
      "ice\n",
      "normal\n",
      "ground\n"
     ]
    }
   ],
   "source": [
    "for x in type_dict:\n",
    "    print(x)"
   ]
  },
  {
   "cell_type": "code",
   "execution_count": 18,
   "id": "1f0c29ac",
   "metadata": {},
   "outputs": [
    {
     "data": {
      "text/plain": [
       "dict_keys(['rock', 'poison', 'fairy', 'fighting', 'dragon', 'psychic', 'steel', 'fire', 'bug', 'dark', 'ghost', 'flying', 'water', 'grass', 'electric', 'ice', 'normal', 'ground'])"
      ]
     },
     "execution_count": 18,
     "metadata": {},
     "output_type": "execute_result"
    }
   ],
   "source": [
    "type_dict.keys()"
   ]
  },
  {
   "cell_type": "code",
   "execution_count": 21,
   "id": "b960c435",
   "metadata": {},
   "outputs": [],
   "source": [
    "status_dict = {'fnt': 0, 'slp': 1, 'brn': 2, 'frz': 3, 'par':4,'psn':5,'tox':6, '': 7}\n",
    "with open(\"status.json\", \"w\") as outfile:\n",
    "    json.dump(status_dict, outfile)"
   ]
  },
  {
   "cell_type": "code",
   "execution_count": null,
   "id": "198dc8aa",
   "metadata": {},
   "outputs": [],
   "source": [
    "side_conds_dict = {'': 0, 'toxicspikes': 1, 'brn': 2, 'frz': 3, 'par':4,'psn':5,'tox':6, '': 7}"
   ]
  },
  {
   "cell_type": "code",
   "execution_count": null,
   "id": "c60fc70a",
   "metadata": {},
   "outputs": [],
   "source": [
    "\"sideConditions\": {\n",
    "                \"toxicspikes\": {\n",
    "                    \"id\": \"toxicspikes\",\n",
    "                    \"target\": \"[Side:p1]\",\n",
    "                    \"source\": \"[Pokemon:p2a]\",\n",
    "                    \"sourceSlot\": \"p2a\",\n",
    "                    \"layers\": 2\n",
    "                }\n",
    "            }\n",
    "    \n",
    "\"stealthrock\": {\n",
    "                    \"id\": \"stealthrock\",\n",
    "                    \"target\": \"[Side:p1]\",\n",
    "                    \"source\": \"[Pokemon:p2d]\",\n",
    "                    \"sourceSlot\": \"p2a\"\n",
    "                }\n",
    "    \n",
    "\"field\": {\n",
    "        \"weather\": \"\",\n",
    "        \"weatherState\": {\n",
    "            \"id\": \"\"\n",
    "        },\n",
    "        \"terrain\": \"grassyterrain\",\n",
    "        \"terrainState\": {\n",
    "            \"id\": \"grassyterrain\",\n",
    "            \"source\": \"[Pokemon:p2a]\",\n",
    "            \"sourceSlot\": \"p2a\",\n",
    "            \"duration\": 4,\n",
    "            \"target\": \"[Field]\"\n",
    "        },\n",
    "        \"pseudoWeather\": {}\n",
    "    }\n",
    "    \n",
    "\"volatiles\": {\n",
    "                        \"substitute\": {\n",
    "                            \"id\": \"substitute\",\n",
    "                            \"target\": \"[Pokemon:p2a]\",\n",
    "                            \"source\": \"[Pokemon:p2a]\",\n",
    "                            \"sourceSlot\": \"p2a\",\n",
    "                            \"sourceEffect\": {\n",
    "                                \"hit\": 1,\n",
    "                                \"totalDamage\": 0,\n",
    "                                \"move\": \"[Move:substitute]\"\n",
    "                            },\n",
    "                            \"hp\": 75\n",
    "                        }"
   ]
  }
 ],
 "metadata": {
  "kernelspec": {
   "display_name": "Python 3 (ipykernel)",
   "language": "python",
   "name": "python3"
  },
  "language_info": {
   "codemirror_mode": {
    "name": "ipython",
    "version": 3
   },
   "file_extension": ".py",
   "mimetype": "text/x-python",
   "name": "python",
   "nbconvert_exporter": "python",
   "pygments_lexer": "ipython3",
   "version": "3.9.7"
  }
 },
 "nbformat": 4,
 "nbformat_minor": 5
}
